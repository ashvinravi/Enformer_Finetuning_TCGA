{
 "cells": [
  {
   "cell_type": "code",
   "execution_count": 1,
   "id": "6603e2fe",
   "metadata": {},
   "outputs": [],
   "source": [
    "import torch\n",
    "from torch import nn\n",
    "from enformer_pytorch import from_pretrained, Enformer\n",
    "from enformer_pytorch.finetune import HeadAdapterWrapper\n",
    "import numpy as np\n",
    "import random\n",
    "from scipy.stats import pearsonr\n",
    "import matplotlib.pyplot as plt \n",
    "import matplotlib.cm as cm\n",
    "import seaborn as sns\n",
    "import pandas as pd\n",
    "from torch.utils.data import TensorDataset, DataLoader\n",
    "from sklearn.model_selection import train_test_split\n",
    "import torchmetrics\n",
    "from torchmetrics.regression import PearsonCorrCoef\n",
    "import pickle as pkl\n",
    "import pysam\n",
    "import os"
   ]
  },
  {
   "cell_type": "markdown",
   "id": "860177d9",
   "metadata": {},
   "source": [
    "# Enformer in-silico mutagenesis of CRC variants "
   ]
  },
  {
   "cell_type": "markdown",
   "id": "88ebca7a",
   "metadata": {},
   "source": [
    "In this notebook, we will perform in-silico mutagenesis of our fine-tuned model to evaluate how much a particular variant of interest modulates gene expression. We have a set of 36 variants, all of which fall within 49,152 bases of our transcription start site for each gene. "
   ]
  },
  {
   "cell_type": "markdown",
   "id": "7dcfad35",
   "metadata": {},
   "source": [
    "### Sequence to Tensor Transformation "
   ]
  },
  {
   "cell_type": "markdown",
   "id": "f8aca6c1",
   "metadata": {},
   "source": [
    "We need to transform our sequences into input tensors for the model. Let's start with loading our sequences of interest."
   ]
  },
  {
   "cell_type": "code",
   "execution_count": 2,
   "id": "c6bafdfa",
   "metadata": {},
   "outputs": [
    {
     "name": "stdout",
     "output_type": "stream",
     "text": [
      "0\n",
      "1000\n",
      "2000\n",
      "3000\n",
      "4000\n",
      "Indices where OSError occurred: [8, 10, 15, 16, 22, 27, 30, 32, 36, 40, 46, 66, 79, 80, 92, 94, 109, 122, 125, 150, 162, 183, 184, 190, 206, 207, 212, 222, 228, 252, 254, 261, 267, 273, 276, 295, 297, 306, 325, 329, 333, 338, 339, 346, 358, 373, 383, 386, 434, 436, 438, 443, 444, 449, 451, 452, 464, 469, 479, 482, 512, 514, 521, 524, 533, 536, 553, 559, 561, 587, 607, 616, 620, 621, 629, 636, 642, 654, 655, 656, 664, 680, 686, 689, 700, 705, 709, 724, 726, 736, 745, 752, 763, 774, 775, 788, 791, 825, 837, 844, 846, 850, 863, 869, 886, 889, 892, 907, 908, 936, 959, 986, 994, 999, 1001, 1014, 1038, 1039, 1042, 1044, 1049, 1051, 1065, 1080, 1087, 1091, 1118, 1140, 1148, 1157, 1159, 1161, 1163, 1169, 1180, 1181, 1196, 1198, 1207, 1214, 1238, 1241, 1262, 1268, 1277, 1293, 1299, 1305, 1311, 1315, 1327, 1336, 1347, 1352, 1362, 1367, 1377, 1382, 1396, 1399, 1402, 1407, 1408, 1411, 1412, 1433, 1444, 1456, 1457, 1465, 1466, 1468, 1473, 1476, 1482, 1508, 1518, 1526, 1527, 1534, 1545, 1555, 1558, 1577, 1581, 1592, 1601, 1621, 1622, 1628, 1634, 1637, 1650, 1671, 1687, 1707, 1718, 1733, 1755, 1757, 1770, 1778, 1790, 1801, 1804, 1812, 1825, 1828, 1834, 1837, 1848, 1867, 1869, 1877, 1883, 1889, 1896, 1901, 1910, 1921, 1922, 1925, 1932, 1936, 1940, 1945, 1947, 1950, 1951, 1996, 2010, 2015, 2038, 2047, 2058, 2077, 2089, 2104, 2105, 2113, 2119, 2124, 2127, 2140, 2147, 2149, 2183, 2211, 2218, 2223, 2225, 2243, 2245, 2246, 2249, 2272, 2276, 2281, 2294, 2295, 2305, 2309, 2312, 2319, 2320, 2328, 2335, 2339, 2342, 2343, 2351, 2368, 2371, 2373, 2374, 2376, 2396, 2402, 2407, 2414, 2416, 2423, 2444, 2445, 2447, 2461, 2466, 2483, 2484, 2488, 2494, 2505, 2544, 2548, 2587, 2600, 2603, 2615, 2626, 2632, 2639, 2645, 2649, 2650, 2653, 2654, 2655, 2670, 2686, 2693, 2695, 2725, 2732, 2759, 2783, 2786, 2806, 2809, 2816, 2836, 2845, 2858, 2877, 2881, 2891, 2921, 2925, 2932, 2936, 2937, 2939, 2944, 2947, 2948, 2954, 2970, 2972, 3003, 3011, 3020, 3032, 3051, 3057, 3060, 3075, 3084, 3095, 3099, 3105, 3113, 3115, 3116, 3117, 3120, 3128, 3134, 3137, 3146, 3165, 3192, 3194, 3206, 3212, 3214, 3242, 3246, 3251, 3264, 3268, 3271, 3292, 3297, 3298, 3301, 3307, 3308, 3311, 3316, 3336, 3338, 3354, 3371, 3420, 3425, 3426, 3429, 3434, 3441, 3453, 3461, 3472, 3482, 3483, 3485, 3491, 3510, 3514, 3517, 3536, 3540, 3542, 3543, 3548, 3549, 3561, 3564, 3576, 3585, 3622, 3624, 3627, 3628, 3630, 3654, 3672, 3674, 3677, 3690, 3696, 3705, 3720, 3739, 3760, 3767, 3775, 3781, 3787, 3794, 3810, 3826, 3839, 3847, 3887, 3888, 3889, 3903, 3906, 3914, 3918, 3924, 3930, 3946, 3949, 3951, 3955, 3956, 3960, 3971, 3975, 3987, 3994, 4002, 4014, 4016, 4019, 4043, 4056, 4107, 4128, 4134, 4153, 4154, 4177, 4179, 4183, 4185, 4188, 4199, 4211, 4216, 4221, 4245, 4254, 4265, 4268, 4281, 4287, 4297, 4300, 4305, 4334, 4342, 4344, 4360, 4363, 4364, 4399, 4404, 4423, 4427, 4429, 4434, 4440, 4443, 4444, 4457, 4468, 4474, 4506, 4516, 4519, 4520, 4523, 4527, 4532, 4533, 4548, 4549, 4551, 4560, 4581, 4589, 4595, 4604, 4611, 4613, 4628, 4630, 4654, 4656, 4669, 4688, 4708, 4711, 4726, 4728, 4730, 4733, 4741, 4749, 4750, 4756, 4764, 4767, 4769, 4783, 4790, 4795, 4796, 4799, 4810, 4824, 4846, 4858, 4867, 4885, 4888, 4892, 4905, 4914, 4919, 4926, 4927, 4947, 4949, 4951, 4974, 4982, 4999]\n"
     ]
    }
   ],
   "source": [
    "directory = '/pollard/home/aravi1/SuPreMo/CRC_variant_sequences/output_sequences/'\n",
    "seq_length = 49152 # This is the sequence length required for Enformer\n",
    "\n",
    "def extract_number(filename):\n",
    "    return int(filename.split('_')[1])\n",
    "\n",
    "def sequences_to_encoding(seq):\n",
    "    # for ACGTN, in that order (-1 for padding)\n",
    "    nucleotide_map = {'A': 0, 'C': 1, 'G': 2, 'T': 3, 'N': 4}\n",
    "    return [int(nucleotide_map.get(nucleotide.upper(), -1)) for nucleotide in seq]\n",
    "\n",
    "files = os.listdir(directory)\n",
    "files_filtered = [filename for filename in files if filename.startswith('sequence_') and filename.endswith('.fa')]\n",
    "seq_files = sorted(files_filtered, key=extract_number)\n",
    "\n",
    "input_sequences = []\n",
    "error_indices = []  # to keep track of the indices where OSError occurs\n",
    "correct_indices = []\n",
    "\n",
    "for idx, fasta in enumerate(seq_files):\n",
    "    batch = []\n",
    "    if (idx % 1000 == 0):\n",
    "        print(idx)\n",
    "    try:\n",
    "        supremo_fasta = pysam.Fastafile(directory + fasta)\n",
    "        for sequence_name in supremo_fasta.references:\n",
    "            # append two sequences - one is ref, one is alt\n",
    "            seq = supremo_fasta.fetch(sequence_name, 0, seq_length).upper()\n",
    "            tensor_seq = torch.tensor(sequences_to_encoding(seq))\n",
    "            batch.append(tensor_seq)\n",
    "            correct_indices.append(idx)\n",
    "    except OSError as e:\n",
    "        # print(f\"OS error occurred for file {fasta}: {e}\")\n",
    "        error_indices.append(idx)\n",
    "    else:\n",
    "        input_sequences.append(batch)\n",
    "\n",
    "print(\"Indices where OSError occurred:\", error_indices)\n"
   ]
  },
  {
   "cell_type": "code",
   "execution_count": 3,
   "id": "59e9a693",
   "metadata": {},
   "outputs": [
    {
     "data": {
      "text/plain": [
       "559"
      ]
     },
     "execution_count": 3,
     "metadata": {},
     "output_type": "execute_result"
    }
   ],
   "source": [
    "len(error_indices)"
   ]
  },
  {
   "cell_type": "code",
   "execution_count": 4,
   "id": "fe084be7",
   "metadata": {},
   "outputs": [
    {
     "data": {
      "text/plain": [
       "tensor([[14327]])"
      ]
     },
     "execution_count": 4,
     "metadata": {},
     "output_type": "execute_result"
    }
   ],
   "source": [
    "torch.nonzero(torch.eq(input_sequences[0][0], input_sequences[0][1]) == False)"
   ]
  },
  {
   "cell_type": "markdown",
   "id": "07aac901",
   "metadata": {},
   "source": [
    "### Fine-tuned Model setup"
   ]
  },
  {
   "cell_type": "code",
   "execution_count": 11,
   "id": "cfdfed87",
   "metadata": {},
   "outputs": [],
   "source": [
    "#### DEFINE TARGET VARIABLES \n",
    "target_length = 384\n",
    "TSS_tensor_pos1, TSS_tensor_pos2 = (target_length / 2) - 1, (target_length / 2)\n",
    "batch_size = 4\n",
    "\n",
    "# Define Enformer revised/fine-tuned model here. \n",
    "from torch.nn import Sequential \n",
    "\n",
    "# 1,536 * 2 - pointwise convolutional\n",
    "# compute target length based on tensor shape \n",
    "\n",
    "class EnformerFineTuning(nn.Module):\n",
    "    def __init__(\n",
    "        self,\n",
    "        enformer,\n",
    "        num_tracks,\n",
    "        post_transformer_embed = False, # whether to take the embeddings from right after the transformer, instead of after the final pointwise convolutional - this would add another layernorm\n",
    "        ):\n",
    "        super().__init__()\n",
    "        assert isinstance(enformer, Enformer)\n",
    "        enformer_hidden_dim = enformer.dim * (2 if not post_transformer_embed else 1)\n",
    "        \n",
    "        self.enformer = enformer.cuda()\n",
    "\n",
    "        if (normalization == True):\n",
    "            self.to_gene_counts = Sequential(\n",
    "                nn.Linear(enformer_hidden_dim, num_tracks, bias=True).cuda(),\n",
    "                # nn.Softplus(beta=1, threshold=20).cuda()\n",
    "            )\n",
    "        else:\n",
    "            self.to_gene_counts = Sequential(\n",
    "                nn.Linear(enformer_hidden_dim, num_tracks, bias=True).cuda(),\n",
    "                nn.Softplus(beta=1, threshold=20).cuda()\n",
    "            )\n",
    "    \n",
    "    def forward(\n",
    "        self,\n",
    "        seq,\n",
    "        target = None,\n",
    "        freeze_enformer = False,\n",
    "        finetune_enformer_ln_only = False,\n",
    "        finetune_last_n_layers_only = None,\n",
    "    ):\n",
    "        enformer_kwargs = dict()\n",
    "\n",
    "        # enformer_kwargs = dict(target_length = 1)\n",
    "        \n",
    "        # returning only the embeddings here \n",
    "        embeddings = self.enformer(seq, return_only_embeddings=True)\n",
    "        # print(embeddings.size())\n",
    "        \n",
    "        # batch_dim, seq_dim, feature_dim = embeddings.size()\n",
    "        \n",
    "        # compute center tensor by floor dividing - convention is just to take the left \n",
    "        \n",
    "        # take center positions of embedding and average the two \n",
    "        TSS_tensor1 = embeddings[:, int(TSS_tensor_pos1)]\n",
    "        # TSS_tensor2 = embeddings[:, int(TSS_tensor_pos2)]\n",
    "        # mean_embeddings_TSS = torch.add(TSS_tensor1, TSS_tensor2) / 2\n",
    "        \n",
    "        # convert mean embedding to gene count value \n",
    "        preds = self.to_gene_counts(TSS_tensor1)\n",
    "\n",
    "        return preds\n",
    "    \n",
    "    def _log(self, t, eps = 1e-20):\n",
    "        return torch.log(t.clamp(min = eps))\n",
    "    \n",
    "    # LOSS FUNCTION for Enformer \n",
    "    def poisson_loss(self, pred, target):\n",
    "        return (pred - target * self._log(pred)).mean()"
   ]
  },
  {
   "cell_type": "code",
   "execution_count": 12,
   "id": "f02d9931",
   "metadata": {},
   "outputs": [],
   "source": [
    "file_path = \"/pollard/home/aravi1/240506_enformer_raw/enformer_finetuned.pkl\"\n",
    "with open(file_path, 'rb') as f:\n",
    "    model = pkl.load(f)"
   ]
  },
  {
   "cell_type": "code",
   "execution_count": 13,
   "id": "57f8c83b",
   "metadata": {},
   "outputs": [],
   "source": [
    "import torch\n",
    "from torch.utils.data import Dataset, DataLoader\n",
    "\n",
    "class MyDataset(Dataset):\n",
    "    def __init__(self, sequences, targets, genes):\n",
    "        self.sequences = sequences\n",
    "\n",
    "    def __len__(self):\n",
    "        return len(self.sequences)\n",
    "\n",
    "    def __getitem__(self, idx):\n",
    "        sequence = ((self.sequences[idx]) if len(self.sequences[idx]) > 0 else torch.zeros((1,)).clone().detach()).cuda() # Handling empty lists\n",
    "        return sequence"
   ]
  },
  {
   "cell_type": "code",
   "execution_count": 14,
   "id": "1adecbf4",
   "metadata": {},
   "outputs": [],
   "source": [
    "batched_by_ref_alt = DataLoader(input_sequences, batch_size=1, shuffle=False)"
   ]
  },
  {
   "cell_type": "code",
   "execution_count": 15,
   "id": "8db835bd",
   "metadata": {},
   "outputs": [
    {
     "name": "stdout",
     "output_type": "stream",
     "text": [
      "0\n",
      "500\n",
      "1000\n",
      "1500\n",
      "2000\n",
      "2500\n",
      "3000\n",
      "3500\n",
      "4000\n"
     ]
    }
   ],
   "source": [
    "# Assuming you have a test_loader similar to train_loader and val_loader\n",
    "test_outputs = []\n",
    "\n",
    "model.eval()  # Set the model to evaluation mode\n",
    "\n",
    "a = torch.randint(0, 5, (1, 49_152)).cuda()\n",
    "# testing = test_seq[0].cuda()\n",
    "# model(testing)\n",
    "\n",
    "with torch.no_grad():\n",
    "    l = 0\n",
    "    for ref_alt in batched_by_ref_alt:\n",
    "        ref_vs_alt = []\n",
    "        for seq in ref_alt:\n",
    "            test_output = model(seq.cuda())\n",
    "            ref_vs_alt.append(test_output)\n",
    "        test_outputs.append(ref_vs_alt)\n",
    "        if (l % 500 == 0):\n",
    "            print(l)\n",
    "        l += 1"
   ]
  },
  {
   "cell_type": "code",
   "execution_count": 38,
   "id": "105a0c00",
   "metadata": {},
   "outputs": [],
   "source": [
    "np_array = np.array([np.concatenate((t1.cpu().numpy(), t2.cpu().numpy()), axis=1) for t1, t2 in test_outputs])\n",
    "\n",
    "# Reshape the numpy array to group elements by multiples of 2\n",
    "reshaped_array = np_array.reshape(-1, 2)"
   ]
  },
  {
   "cell_type": "code",
   "execution_count": 5,
   "id": "5bad4f49",
   "metadata": {},
   "outputs": [],
   "source": [
    "file_path = '/pollard/home/aravi1/SuPreMo/CRC_variant_sequences/in_silico_pred_v_obs_results.txt'\n",
    "# np.savetxt(file_path, reshaped_array)"
   ]
  },
  {
   "cell_type": "code",
   "execution_count": 6,
   "id": "76828daf",
   "metadata": {},
   "outputs": [],
   "source": [
    "pred_vs_observed = np.loadtxt(file_path)"
   ]
  },
  {
   "cell_type": "code",
   "execution_count": 7,
   "id": "051ae78f",
   "metadata": {
    "scrolled": true
   },
   "outputs": [
    {
     "name": "stderr",
     "output_type": "stream",
     "text": [
      "/tmp/ipykernel_938938/3883799481.py:2: DtypeWarning: Columns (121) have mixed types. Specify dtype option on import or set low_memory=False.\n",
      "  all_CRC_variants = pd.read_csv('/pollard/home/aravi1/SuPreMo/TCGA_CRC_risk_variants.tsv', sep ='\\t')\n"
     ]
    }
   ],
   "source": [
    "list_of_variants = pd.read_csv('/pollard/home/aravi1/SuPreMo/CRC_variant_sequences/variant_info_MAF.tsv', sep = '\\t')\n",
    "all_CRC_variants = pd.read_csv('/pollard/home/aravi1/SuPreMo/TCGA_CRC_risk_variants.tsv', sep ='\\t')\n",
    "\n",
    "all_CRC_variants = all_CRC_variants.drop_duplicates(['Chromosome', 'Start_Position', 'End_Position', 'Hugo_Symbol'])\n",
    "all_CRC_variants['id'] = all_CRC_variants['Chromosome'] + ':' + all_CRC_variants['Start_Position'].astype(str) + ':' + all_CRC_variants['Tumor_Seq_Allele1'] + ':' + all_CRC_variants['Tumor_Seq_Allele2']\n",
    "list_of_variants['id'] = list_of_variants['CHROM'] + ':' + list_of_variants['POS'].astype(str) + ':' + list_of_variants['REF'] + ':' + list_of_variants['ALT']\n",
    "\n",
    "random_sample = all_CRC_variants[all_CRC_variants['id'].isin(list_of_variants['id'])]\n",
    "\n",
    "random_sample = pd.merge(list_of_variants, random_sample, on='id', how='left')\n",
    "random_sample = random_sample.drop(index=error_indices)"
   ]
  },
  {
   "cell_type": "code",
   "execution_count": 8,
   "id": "640b7a9c",
   "metadata": {},
   "outputs": [],
   "source": [
    "random_sample['SVTYPE'] = random_sample['SVTYPE'].fillna('SNV').astype(str)"
   ]
  },
  {
   "cell_type": "code",
   "execution_count": 41,
   "id": "fcadedae",
   "metadata": {},
   "outputs": [
    {
     "data": {
      "image/png": "[encoded data removed]",
      "text/plain": [
       "<Figure size 640x480 with 1 Axes>"
      ]
     },
     "metadata": {},
     "output_type": "display_data"
    }
   ],
   "source": [
    "from scipy.stats import wilcoxon\n",
    "\n",
    "random_sample = random_sample.reset_index(drop=True)\n",
    "\n",
    "plot_table = pd.concat([pd.Series(np.log(pred_vs_observed[:,0])), \n",
    "                        pd.Series(np.log(pred_vs_observed[:,1])), \n",
    "                        pd.Series(random_sample['SVTYPE']),\n",
    "                        pd.Series(random_sample['Variant_Classification'])], axis=1)\n",
    "\n",
    "\n",
    "\n",
    "plot_table.columns = ['data1', 'data2', 'SVTYPE', 'Variant_Classification']\n",
    "\n",
    "color_map = {\n",
    "    'SNV': 'steelblue',\n",
    "    'DEL': 'orange'\n",
    "}\n",
    "\n",
    "# Create scatter plots with labels\n",
    "for label, group in plot_table.groupby('SVTYPE'):\n",
    "    plt.scatter(group['data1'], group['data2'], label=label, color=color_map[label])\n",
    "\n",
    "# Add legend\n",
    "plt.legend()\n",
    "\n",
    "# Add labels and title\n",
    "plt.xlabel('Data 1 (log)')\n",
    "plt.ylabel('Data 2 (log)')\n",
    "plt.title('Scatter Plot with Legend for SNP and DEL Mutations')\n",
    "\n",
    "# Show plot\n",
    "plt.show()"
   ]
  },
  {
   "cell_type": "code",
   "execution_count": 42,
   "id": "9ecd0d07",
   "metadata": {},
   "outputs": [],
   "source": [
    "plot_table['absolute_difference'] = plot_table['data1'] - plot_table['data2']\n",
    "plot_table['distance_to_TSS'] = random_sample['difference']"
   ]
  },
  {
   "cell_type": "code",
   "execution_count": 43,
   "id": "a4071966",
   "metadata": {},
   "outputs": [
    {
     "data": {
      "text/plain": [
       "<matplotlib.legend.Legend at 0x7f3f3af582e0>"
      ]
     },
     "execution_count": 43,
     "metadata": {},
     "output_type": "execute_result"
    },
    {
     "data": {
      "image/png": "[encoded data removed]",
      "text/plain": [
       "<Figure size 640x480 with 1 Axes>"
      ]
     },
     "metadata": {},
     "output_type": "display_data"
    }
   ],
   "source": [
    "for label, group in plot_table.groupby('Variant_Classification'):\n",
    "    plt.scatter(plot_table['distance_to_TSS'], abs(plot_table['absolute_difference']), label=label)\n",
    "\n",
    "plt.title('Absolute Difference vs Distance to TSS')\n",
    "plt.xlabel('Distance to TSS')\n",
    "plt.ylabel('Absolute Difference in ln(counts)')\n",
    "plt.legend()"
   ]
  },
  {
   "cell_type": "code",
   "execution_count": 45,
   "id": "5e2065ab",
   "metadata": {},
   "outputs": [
    {
     "data": {
      "text/html": [
       "<div>\n",
       "<style scoped>\n",
       "    .dataframe tbody tr th:only-of-type {\n",
       "        vertical-align: middle;\n",
       "    }\n",
       "\n",
       "    .dataframe tbody tr th {\n",
       "        vertical-align: top;\n",
       "    }\n",
       "\n",
       "    .dataframe thead th {\n",
       "        text-align: right;\n",
       "    }\n",
       "</style>\n",
       "<table border=\"1\" class=\"dataframe\">\n",
       "  <thead>\n",
       "    <tr style=\"text-align: right;\">\n",
       "      <th></th>\n",
       "      <th>data1</th>\n",
       "      <th>data2</th>\n",
       "      <th>SVTYPE</th>\n",
       "      <th>Variant_Classification</th>\n",
       "      <th>absolute_difference</th>\n",
       "      <th>distance_to_TSS</th>\n",
       "    </tr>\n",
       "  </thead>\n",
       "  <tbody>\n",
       "    <tr>\n",
       "      <th>0</th>\n",
       "      <td>3.785949</td>\n",
       "      <td>3.785952</td>\n",
       "      <td>SNV</td>\n",
       "      <td>Silent</td>\n",
       "      <td>-0.000003</td>\n",
       "      <td>10248</td>\n",
       "    </tr>\n",
       "    <tr>\n",
       "      <th>1</th>\n",
       "      <td>1.125075</td>\n",
       "      <td>1.105342</td>\n",
       "      <td>SNV</td>\n",
       "      <td>Missense_Mutation</td>\n",
       "      <td>0.019733</td>\n",
       "      <td>19192</td>\n",
       "    </tr>\n",
       "    <tr>\n",
       "      <th>2</th>\n",
       "      <td>1.100402</td>\n",
       "      <td>1.100197</td>\n",
       "      <td>SNV</td>\n",
       "      <td>Silent</td>\n",
       "      <td>0.000206</td>\n",
       "      <td>-11925</td>\n",
       "    </tr>\n",
       "    <tr>\n",
       "      <th>3</th>\n",
       "      <td>3.922861</td>\n",
       "      <td>3.923084</td>\n",
       "      <td>SNV</td>\n",
       "      <td>Missense_Mutation</td>\n",
       "      <td>-0.000224</td>\n",
       "      <td>-7220</td>\n",
       "    </tr>\n",
       "    <tr>\n",
       "      <th>4</th>\n",
       "      <td>0.811128</td>\n",
       "      <td>0.804435</td>\n",
       "      <td>SNV</td>\n",
       "      <td>Silent</td>\n",
       "      <td>0.006694</td>\n",
       "      <td>-2796</td>\n",
       "    </tr>\n",
       "    <tr>\n",
       "      <th>...</th>\n",
       "      <td>...</td>\n",
       "      <td>...</td>\n",
       "      <td>...</td>\n",
       "      <td>...</td>\n",
       "      <td>...</td>\n",
       "      <td>...</td>\n",
       "    </tr>\n",
       "    <tr>\n",
       "      <th>4436</th>\n",
       "      <td>0.036218</td>\n",
       "      <td>-0.027012</td>\n",
       "      <td>SNV</td>\n",
       "      <td>Missense_Mutation</td>\n",
       "      <td>0.063230</td>\n",
       "      <td>1720</td>\n",
       "    </tr>\n",
       "    <tr>\n",
       "      <th>4437</th>\n",
       "      <td>-1.335510</td>\n",
       "      <td>-1.335927</td>\n",
       "      <td>SNV</td>\n",
       "      <td>Missense_Mutation</td>\n",
       "      <td>0.000417</td>\n",
       "      <td>-3763</td>\n",
       "    </tr>\n",
       "    <tr>\n",
       "      <th>4438</th>\n",
       "      <td>2.736238</td>\n",
       "      <td>2.746313</td>\n",
       "      <td>SNV</td>\n",
       "      <td>Missense_Mutation</td>\n",
       "      <td>-0.010075</td>\n",
       "      <td>-2412</td>\n",
       "    </tr>\n",
       "    <tr>\n",
       "      <th>4439</th>\n",
       "      <td>4.496428</td>\n",
       "      <td>4.494713</td>\n",
       "      <td>SNV</td>\n",
       "      <td>Silent</td>\n",
       "      <td>0.001714</td>\n",
       "      <td>-5113</td>\n",
       "    </tr>\n",
       "    <tr>\n",
       "      <th>4440</th>\n",
       "      <td>2.598939</td>\n",
       "      <td>2.530210</td>\n",
       "      <td>SNV</td>\n",
       "      <td>Silent</td>\n",
       "      <td>0.068729</td>\n",
       "      <td>1986</td>\n",
       "    </tr>\n",
       "  </tbody>\n",
       "</table>\n",
       "<p>4441 rows × 6 columns</p>\n",
       "</div>"
      ],
      "text/plain": [
       "         data1     data2 SVTYPE Variant_Classification  absolute_difference  \\\n",
       "0     3.785949  3.785952    SNV                 Silent            -0.000003   \n",
       "1     1.125075  1.105342    SNV      Missense_Mutation             0.019733   \n",
       "2     1.100402  1.100197    SNV                 Silent             0.000206   \n",
       "3     3.922861  3.923084    SNV      Missense_Mutation            -0.000224   \n",
       "4     0.811128  0.804435    SNV                 Silent             0.006694   \n",
       "...        ...       ...    ...                    ...                  ...   \n",
       "4436  0.036218 -0.027012    SNV      Missense_Mutation             0.063230   \n",
       "4437 -1.335510 -1.335927    SNV      Missense_Mutation             0.000417   \n",
       "4438  2.736238  2.746313    SNV      Missense_Mutation            -0.010075   \n",
       "4439  4.496428  4.494713    SNV                 Silent             0.001714   \n",
       "4440  2.598939  2.530210    SNV                 Silent             0.068729   \n",
       "\n",
       "      distance_to_TSS  \n",
       "0               10248  \n",
       "1               19192  \n",
       "2              -11925  \n",
       "3               -7220  \n",
       "4               -2796  \n",
       "...               ...  \n",
       "4436             1720  \n",
       "4437            -3763  \n",
       "4438            -2412  \n",
       "4439            -5113  \n",
       "4440             1986  \n",
       "\n",
       "[4441 rows x 6 columns]"
      ]
     },
     "execution_count": 45,
     "metadata": {},
     "output_type": "execute_result"
    }
   ],
   "source": [
    "plot_table"
   ]
  },
  {
   "cell_type": "code",
   "execution_count": null,
   "id": "51356b0e",
   "metadata": {},
   "outputs": [],
   "source": []
  }
 ],
 "metadata": {
  "kernelspec": {
   "display_name": "Python 3 (ipykernel)",
   "language": "python",
   "name": "python3"
  },
  "language_info": {
   "codemirror_mode": {
    "name": "ipython",
    "version": 3
   },
   "file_extension": ".py",
   "mimetype": "text/x-python",
   "name": "python",
   "nbconvert_exporter": "python",
   "pygments_lexer": "ipython3",
   "version": "3.9.19"
  }
 },
 "nbformat": 4,
 "nbformat_minor": 5
}
