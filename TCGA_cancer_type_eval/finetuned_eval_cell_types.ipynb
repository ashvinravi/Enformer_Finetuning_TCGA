{
 "cells": [
  {
   "cell_type": "code",
   "execution_count": 1,
   "id": "19c1c5f2",
   "metadata": {},
   "outputs": [],
   "source": [
    "import torch\n",
    "from torch import nn\n",
    "from enformer_pytorch import from_pretrained, Enformer\n",
    "from enformer_pytorch.finetune import HeadAdapterWrapper\n",
    "import numpy as np\n",
    "import random\n",
    "from scipy.stats import pearsonr\n",
    "import matplotlib.pyplot as plt \n",
    "import matplotlib.cm as cm\n",
    "import seaborn as sns\n",
    "import pandas as pd\n",
    "from torch.utils.data import TensorDataset, DataLoader\n",
    "from sklearn.model_selection import train_test_split\n",
    "import torchmetrics\n",
    "from torchmetrics.regression import PearsonCorrCoef\n",
    "import pickle as pkl"
   ]
  },
  {
   "cell_type": "markdown",
   "id": "90278926",
   "metadata": {},
   "source": [
    "# Evaluation on different cancer types"
   ]
  },
  {
   "cell_type": "markdown",
   "id": "856cefee",
   "metadata": {},
   "source": [
    "In this model, we are going to evaluate our fine-tuned model on cancer samples across different tissues. The framework here will be to check how well model performance correlates with tissue/cancer similarity.  "
   ]
  },
  {
   "cell_type": "code",
   "execution_count": 2,
   "id": "f0d201d7",
   "metadata": {},
   "outputs": [],
   "source": [
    "# Load gene counts and metadata in\n",
    "all_cell_type_counts = pd.read_csv(\"/pollard/home/aravi1/TCGA_matrices/all_cell_types/all_cell_type_counts.tsv.gz\", sep='\\t')\n",
    "all_cell_type_metadata = pd.read_csv(\"/pollard/home/aravi1/TCGA_matrices/all_cell_types/all_cell_type_metadata.tsv\", sep='\\t')"
   ]
  },
  {
   "cell_type": "code",
   "execution_count": 3,
   "id": "29def55c",
   "metadata": {},
   "outputs": [
    {
     "data": {
      "text/html": [
       "<style>\n",
       "table {float:left}\n",
       "</style>\n"
      ],
      "text/plain": [
       "<IPython.core.display.HTML object>"
      ]
     },
     "metadata": {},
     "output_type": "display_data"
    }
   ],
   "source": [
    "%%html\n",
    "<style>\n",
    "table {float:left}\n",
    "</style>"
   ]
  },
  {
   "cell_type": "markdown",
   "id": "0bed18ac",
   "metadata": {},
   "source": [
    "| Cohort | Samples | Cancer Type | \n",
    "|:------:|:---:|:-----------|\n",
    "| COAD-READ | 695 | Adenocarcinoma |\n",
    "| BLCA | 431 | Carcinoma | \n",
    "| KIRC | 614 | Carcinoma |\n",
    "| LGG | 534 | Glioma |\n",
    "| LUAD | 600 | Adenocarcinoma | \n",
    "| LUSC | 553 | Sarcoma |\n",
    "| PRAD | 554 | Adenocarcinoma |\n",
    "| **TOTAL** | **3981** |"
   ]
  },
  {
   "cell_type": "code",
   "execution_count": 4,
   "id": "5727cc9d",
   "metadata": {},
   "outputs": [],
   "source": [
    "gene_names = pd.read_csv(\"crc_gene_counts.tsv\", sep=\"\\t\")\n",
    "gene_names = gene_names['gene_name']\n",
    "\n",
    "all_cell_type_counts = pd.concat([gene_names, all_cell_type_counts.iloc[:, 1:]], axis=1)"
   ]
  },
  {
   "cell_type": "code",
   "execution_count": 5,
   "id": "69bdc279",
   "metadata": {},
   "outputs": [],
   "source": [
    "TSS_centered_genes = pd.read_csv('Enformer_genomic_regions_TSSCenteredGenes_FixedOverlapRemoval.csv')\n",
    "TSS_centered_genes = TSS_centered_genes[TSS_centered_genes['gene_name'].isin(all_cell_type_counts['gene_name'])]\n",
    "\n",
    "# obtain training, validation and test genes here\n",
    "test_genes = TSS_centered_genes['gene_name'][TSS_centered_genes['set'] == \"test\"]\n",
    "\n",
    "\n",
    "### INPUTS\n",
    "# validation sequences\n",
    "# test sequences \n",
    "\n",
    "### shorten sequences from 196,608 bp to 49,152 as interval length. \n",
    "TSS_centered_genes['starts'] = (TSS_centered_genes['starts'] + ((196608 / 8) * 3)).astype(int)\n",
    "TSS_centered_genes['ends'] = (TSS_centered_genes['ends'] - ((196608 / 8) * 3)).astype(int)\n",
    "assert (TSS_centered_genes['ends'] - TSS_centered_genes['starts'] == 49152).all()\n",
    "assert (TSS_centered_genes['ends'] - TSS_centered_genes['gene_start'].astype(int) == 24576).all()\n",
    "\n",
    "test_sequences = TSS_centered_genes[TSS_centered_genes['gene_name'].isin(test_genes)]\n",
    "test_sequences = test_sequences[test_sequences['gene_name'].isin(all_cell_type_counts['gene_name'])]"
   ]
  },
  {
   "cell_type": "code",
   "execution_count": 6,
   "id": "6ad4713f",
   "metadata": {},
   "outputs": [],
   "source": [
    "normalization=False\n",
    "batch_size = 4"
   ]
  },
  {
   "cell_type": "code",
   "execution_count": 7,
   "id": "d3a2b9c5",
   "metadata": {},
   "outputs": [
    {
     "data": {
      "text/html": [
       "<div>\n",
       "<style scoped>\n",
       "    .dataframe tbody tr th:only-of-type {\n",
       "        vertical-align: middle;\n",
       "    }\n",
       "\n",
       "    .dataframe tbody tr th {\n",
       "        vertical-align: top;\n",
       "    }\n",
       "\n",
       "    .dataframe thead th {\n",
       "        text-align: right;\n",
       "    }\n",
       "</style>\n",
       "<table border=\"1\" class=\"dataframe\">\n",
       "  <thead>\n",
       "    <tr style=\"text-align: right;\">\n",
       "      <th></th>\n",
       "      <th>Unnamed: 0</th>\n",
       "      <th>Project</th>\n",
       "      <th>sample_id</th>\n",
       "    </tr>\n",
       "  </thead>\n",
       "  <tbody>\n",
       "    <tr>\n",
       "      <th>0</th>\n",
       "      <td>0</td>\n",
       "      <td>TCGA-COAD</td>\n",
       "      <td>90c9f8cd-4c8c-4f07-af2f-e17db69bd561</td>\n",
       "    </tr>\n",
       "    <tr>\n",
       "      <th>1</th>\n",
       "      <td>1</td>\n",
       "      <td>TCGA-COAD</td>\n",
       "      <td>0f35c851-1cb8-4f75-a661-eae9111b7362</td>\n",
       "    </tr>\n",
       "    <tr>\n",
       "      <th>2</th>\n",
       "      <td>2</td>\n",
       "      <td>TCGA-READ</td>\n",
       "      <td>ff11a9e3-d32b-431b-9ebb-c5a3d9eb0e4f</td>\n",
       "    </tr>\n",
       "    <tr>\n",
       "      <th>3</th>\n",
       "      <td>3</td>\n",
       "      <td>TCGA-COAD</td>\n",
       "      <td>8ee55a63-4e87-4c00-8012-4c87efdcb7ed</td>\n",
       "    </tr>\n",
       "    <tr>\n",
       "      <th>4</th>\n",
       "      <td>4</td>\n",
       "      <td>TCGA-COAD</td>\n",
       "      <td>5c3c4b79-0682-4f19-96aa-071316a354d4</td>\n",
       "    </tr>\n",
       "    <tr>\n",
       "      <th>...</th>\n",
       "      <td>...</td>\n",
       "      <td>...</td>\n",
       "      <td>...</td>\n",
       "    </tr>\n",
       "    <tr>\n",
       "      <th>3976</th>\n",
       "      <td>549</td>\n",
       "      <td>TCGA-PRAD</td>\n",
       "      <td>1f3cabd7-c794-4083-a010-bc828e82608f</td>\n",
       "    </tr>\n",
       "    <tr>\n",
       "      <th>3977</th>\n",
       "      <td>550</td>\n",
       "      <td>TCGA-PRAD</td>\n",
       "      <td>9493a088-7cc8-4d7f-ad8b-946b9b9c4a2b</td>\n",
       "    </tr>\n",
       "    <tr>\n",
       "      <th>3978</th>\n",
       "      <td>551</td>\n",
       "      <td>TCGA-PRAD</td>\n",
       "      <td>fad685af-19be-4f40-9dd2-34ed966ffeae</td>\n",
       "    </tr>\n",
       "    <tr>\n",
       "      <th>3979</th>\n",
       "      <td>552</td>\n",
       "      <td>TCGA-PRAD</td>\n",
       "      <td>ac8abf7f-05eb-40d8-b8a8-5a2e2febfcbd</td>\n",
       "    </tr>\n",
       "    <tr>\n",
       "      <th>3980</th>\n",
       "      <td>553</td>\n",
       "      <td>TCGA-PRAD</td>\n",
       "      <td>8b17c95b-808c-4536-8538-428b73b07fda</td>\n",
       "    </tr>\n",
       "  </tbody>\n",
       "</table>\n",
       "<p>3981 rows × 3 columns</p>\n",
       "</div>"
      ],
      "text/plain": [
       "      Unnamed: 0    Project                             sample_id\n",
       "0              0  TCGA-COAD  90c9f8cd-4c8c-4f07-af2f-e17db69bd561\n",
       "1              1  TCGA-COAD  0f35c851-1cb8-4f75-a661-eae9111b7362\n",
       "2              2  TCGA-READ  ff11a9e3-d32b-431b-9ebb-c5a3d9eb0e4f\n",
       "3              3  TCGA-COAD  8ee55a63-4e87-4c00-8012-4c87efdcb7ed\n",
       "4              4  TCGA-COAD  5c3c4b79-0682-4f19-96aa-071316a354d4\n",
       "...          ...        ...                                   ...\n",
       "3976         549  TCGA-PRAD  1f3cabd7-c794-4083-a010-bc828e82608f\n",
       "3977         550  TCGA-PRAD  9493a088-7cc8-4d7f-ad8b-946b9b9c4a2b\n",
       "3978         551  TCGA-PRAD  fad685af-19be-4f40-9dd2-34ed966ffeae\n",
       "3979         552  TCGA-PRAD  ac8abf7f-05eb-40d8-b8a8-5a2e2febfcbd\n",
       "3980         553  TCGA-PRAD  8b17c95b-808c-4536-8538-428b73b07fda\n",
       "\n",
       "[3981 rows x 3 columns]"
      ]
     },
     "execution_count": 7,
     "metadata": {},
     "output_type": "execute_result"
    }
   ],
   "source": [
    "all_cell_type_metadata"
   ]
  },
  {
   "cell_type": "markdown",
   "id": "a8a88356",
   "metadata": {},
   "source": [
    "# Data Loader Here"
   ]
  },
  {
   "cell_type": "code",
   "execution_count": 8,
   "id": "07849993",
   "metadata": {},
   "outputs": [],
   "source": [
    "import random\n",
    "import torch\n",
    "from enformer_pytorch import from_pretrained, Enformer, GenomeIntervalDataset\n",
    "from enformer_pytorch.finetune import HeadAdapterWrapper\n",
    "from scipy.stats import pearsonr\n",
    "import polars as pl\n",
    "\n",
    "np.random.seed(150)\n",
    "\n",
    "filter_test = lambda df: df.filter(pl.col('column_4') == 'test')\n",
    "test_ds = GenomeIntervalDataset(\n",
    "    bed_file = 'test_sequences.bed',                       \n",
    "    fasta_file = 'hg38.fa',\n",
    "    filter_df_fn = filter_test,\n",
    "    return_seq_indices = True,                         \n",
    "    context_length = 49_152\n",
    ")"
   ]
  },
  {
   "cell_type": "code",
   "execution_count": 9,
   "id": "1eaafc59",
   "metadata": {},
   "outputs": [],
   "source": [
    "import torch\n",
    "from torch.utils.data import Dataset, DataLoader\n",
    "\n",
    "class MyDataset(Dataset):\n",
    "    def __init__(self, sequences, targets, genes, cell_type):\n",
    "        self.sequences = sequences\n",
    "        self.targets = targets\n",
    "        self.gene = genes \n",
    "        self.cell_type = cell_type\n",
    "\n",
    "    def __len__(self):\n",
    "        return len(self.sequences)\n",
    "\n",
    "    def __getitem__(self, idx):\n",
    "        sequence = ((self.sequences[idx]) if len(self.sequences[idx]) > 0 else torch.zeros((1,)).clone().detach()).cuda() # Handling empty lists\n",
    "        target = torch.tensor(self.targets[idx]).cuda()\n",
    "        gene = self.gene[idx]\n",
    "        cell_type = self.cell_type\n",
    "        return sequence, target, gene, cell_type"
   ]
  },
  {
   "cell_type": "code",
   "execution_count": 10,
   "id": "efee9cb4",
   "metadata": {},
   "outputs": [],
   "source": [
    "#### DEFINE TARGET VARIABLES \n",
    "target_length = 384\n",
    "TSS_tensor_pos1, TSS_tensor_pos2 = (target_length / 2) - 1, (target_length / 2)\n",
    "batch_size = 4\n",
    "\n",
    "# Define Enformer revised/fine-tuned model here. \n",
    "from torch.nn import Sequential \n",
    "\n",
    "# 1,536 * 2 - pointwise convolutional\n",
    "# compute target length based on tensor shape \n",
    "\n",
    "class EnformerFineTuning(nn.Module):\n",
    "    def __init__(\n",
    "        self,\n",
    "        enformer,\n",
    "        num_tracks,\n",
    "        post_transformer_embed = False, # whether to take the embeddings from right after the transformer, instead of after the final pointwise convolutional - this would add another layernorm\n",
    "        ):\n",
    "        super().__init__()\n",
    "        assert isinstance(enformer, Enformer)\n",
    "        enformer_hidden_dim = enformer.dim * (2 if not post_transformer_embed else 1)\n",
    "        \n",
    "        self.enformer = enformer.cuda()\n",
    "\n",
    "        if (normalization == True):\n",
    "            self.to_gene_counts = Sequential(\n",
    "                nn.Linear(enformer_hidden_dim, num_tracks, bias=True).cuda(),\n",
    "                # nn.Softplus(beta=1, threshold=20).cuda()\n",
    "            )\n",
    "        else:\n",
    "            self.to_gene_counts = Sequential(\n",
    "                nn.Linear(enformer_hidden_dim, num_tracks, bias=True).cuda(),\n",
    "                nn.Softplus(beta=1, threshold=20).cuda()\n",
    "            )\n",
    "    \n",
    "    def forward(\n",
    "        self,\n",
    "        seq,\n",
    "        target = None,\n",
    "        freeze_enformer = False,\n",
    "        finetune_enformer_ln_only = False,\n",
    "        finetune_last_n_layers_only = None,\n",
    "    ):\n",
    "        enformer_kwargs = dict()\n",
    "\n",
    "        # enformer_kwargs = dict(target_length = 1)\n",
    "        \n",
    "        # returning only the embeddings here \n",
    "        embeddings = self.enformer(seq, return_only_embeddings=True)\n",
    "        # print(embeddings.size())\n",
    "        \n",
    "        # batch_dim, seq_dim, feature_dim = embeddings.size()\n",
    "        \n",
    "        # compute center tensor by floor dividing - convention is just to take the left \n",
    "        \n",
    "        # take center positions of embedding and average the two \n",
    "        TSS_tensor1 = embeddings[:, int(TSS_tensor_pos1)]\n",
    "        # TSS_tensor2 = embeddings[:, int(TSS_tensor_pos2)]\n",
    "        # mean_embeddings_TSS = torch.add(TSS_tensor1, TSS_tensor2) / 2\n",
    "        \n",
    "        # convert mean embedding to gene count value \n",
    "        preds = self.to_gene_counts(TSS_tensor1)\n",
    "\n",
    "        return preds\n",
    "    \n",
    "    def _log(self, t, eps = 1e-20):\n",
    "        return torch.log(t.clamp(min = eps))\n",
    "    \n",
    "    # LOSS FUNCTION for Enformer \n",
    "    def poisson_loss(self, pred, target):\n",
    "        return (pred - target * self._log(pred)).mean()"
   ]
  },
  {
   "cell_type": "code",
   "execution_count": 11,
   "id": "49fc07af",
   "metadata": {},
   "outputs": [],
   "source": [
    "file_path = \"/pollard/home/aravi1/240506_enformer_raw/enformer_finetuned.pkl\"\n",
    "with open(file_path, 'rb') as f:\n",
    "    model = pkl.load(f)"
   ]
  },
  {
   "cell_type": "code",
   "execution_count": 13,
   "id": "54c5a2da",
   "metadata": {},
   "outputs": [
    {
     "ename": "TypeError",
     "evalue": "eval_per_cell_type() missing 2 required positional arguments: 'test_sequences' and 'test_ds'",
     "output_type": "error",
     "traceback": [
      "\u001b[0;31m---------------------------------------------------------------------------\u001b[0m",
      "\u001b[0;31mTypeError\u001b[0m                                 Traceback (most recent call last)",
      "Cell \u001b[0;32mIn[13], line 73\u001b[0m\n\u001b[1;32m     66\u001b[0m     \u001b[38;5;28;01mreturn\u001b[39;00m test_targets, test_outputs, test_loss, test_genes\n\u001b[1;32m     68\u001b[0m     \u001b[38;5;66;03m# return test, cell_type_counts_revised \u001b[39;00m\n\u001b[1;32m     69\u001b[0m \n\u001b[1;32m     70\u001b[0m \u001b[38;5;66;03m# test, decoy = eval_per_cell_type(\"TCGA-COAD\")\u001b[39;00m\n\u001b[1;32m     71\u001b[0m \u001b[38;5;66;03m# i = 0\u001b[39;00m\n\u001b[0;32m---> 73\u001b[0m COAD_targets, COAD_outputs, COAD_loss, COAD_genes \u001b[38;5;241m=\u001b[39m \u001b[43meval_per_cell_type\u001b[49m\u001b[43m(\u001b[49m\u001b[38;5;124;43m\"\u001b[39;49m\u001b[38;5;124;43mTCGA-COAD\u001b[39;49m\u001b[38;5;124;43m\"\u001b[39;49m\u001b[43m)\u001b[49m\n\u001b[1;32m     74\u001b[0m \u001b[38;5;66;03m#READ_targets, READ_outputs, READ_loss, READ_genes = eval_per_cell_type(\"TCGA-READ\")\u001b[39;00m\n\u001b[1;32m     75\u001b[0m \u001b[38;5;66;03m#BLCA_targets, BLCA_outputs, BLCA_loss, BLCA_genes = eval_per_cell_type(\"TCGA-BLCA\")\u001b[39;00m\n\u001b[1;32m     76\u001b[0m \u001b[38;5;66;03m#KIRC_targets, KIRC_outputs, KIRC_loss, KIRC_genes = eval_per_cell_type(\"TCGA-KIRC\")\u001b[39;00m\n\u001b[0;32m   (...)\u001b[0m\n\u001b[1;32m     79\u001b[0m \u001b[38;5;66;03m#LUSC_targets, LUSC_outputs, LUSC_loss, LUSC_genes = eval_per_cell_type(\"TCGA-LUSC\")\u001b[39;00m\n\u001b[1;32m     80\u001b[0m \u001b[38;5;66;03m#PRAD_targets, PRAD_outputs, PRAD_loss, PRAD_genes = eval_per_cell_type(\"TCGA-PRAD\")\u001b[39;00m\n",
      "\u001b[0;31mTypeError\u001b[0m: eval_per_cell_type() missing 2 required positional arguments: 'test_sequences' and 'test_ds'"
     ]
    }
   ],
   "source": [
    "# Create DataLoader instances\n",
    "torch.manual_seed(42)\n",
    "np.random.seed(150)\n",
    "\n",
    "def eval_per_cell_type(cell_type, test_sequences, test_ds):\n",
    "    \n",
    "    test_targets = []\n",
    "    test_outputs = []\n",
    "    test_loss = []\n",
    "    test_genes = []\n",
    "    \n",
    "    print(cell_type)\n",
    "\n",
    "    # Create DataLoader instances\n",
    "    torch.manual_seed(42)\n",
    "    np.random.seed(150)\n",
    "\n",
    "    cell_type_samples = all_cell_type_metadata['sample_id'][all_cell_type_metadata['Project'] == cell_type]\n",
    "    cell_type_counts = all_cell_type_counts.loc[:, all_cell_type_counts.columns.isin(cell_type_samples)]\n",
    "    cell_type_counts['median'] = cell_type_counts.median(axis=0)\n",
    "\n",
    "    cell_type_counts['median'] = cell_type_counts.median(axis=1)\n",
    "    cell_type_counts = pd.concat([all_cell_type_counts['gene_name'], cell_type_counts], axis=1)\n",
    "    cell_type_counts = cell_type_counts[cell_type_counts['gene_name'].isin(test_sequences['gene_name'])]\n",
    "    cell_type_counts = cell_type_counts.drop_duplicates(subset=['gene_name'], keep='first')\n",
    "    \n",
    "    cell_type_counts['gene_name'] = pd.Categorical(cell_type_counts['gene_name'], test_sequences['gene_name'])\n",
    "    cell_type_counts_revised = cell_type_counts.sort_values(\"gene_name\")\n",
    "    \n",
    "    cell_type_counts_revised = cell_type_counts_revised.reset_index(drop=True)\n",
    "\n",
    "    test = MyDataset(test_ds, cell_type_counts_revised['median'], cell_type_counts_revised['gene_name'], cell_type)\n",
    "    test_loader = DataLoader(test, batch_size=batch_size, shuffle=False)\n",
    "    \n",
    "    model.eval()  # Set the model to evaluation mode\n",
    "    \n",
    "    with torch.no_grad():\n",
    "        l = 0\n",
    "        for test_seq, test_target, test_gene, cancer_type in test_loader:\n",
    "            test_target = test_target.reshape([test_target.size()[0], 1])\n",
    "            test_output = model(test_seq)\n",
    "            if (normalization == True):\n",
    "                test_loss_batch = criterion(test_output.float(), test_target.float())\n",
    "            else: \n",
    "                test_loss_batch = model.poisson_loss(test_output, test_target).item()\n",
    "\n",
    "            test_genes.append(test_gene)\n",
    "            test_targets.append(test_target)\n",
    "            test_outputs.append(test_output)\n",
    "            test_loss.append(test_loss_batch)\n",
    "\n",
    "            if (l % 100 == 0):\n",
    "                print(l)\n",
    "\n",
    "            l += 1\n",
    "\n",
    "    if (normalization == True):\n",
    "        test_accuracy = pearsonr(torch.cat(test_outputs).cpu().detach().numpy().flatten(), torch.cat(test_targets).cpu().detach().numpy().flatten())\n",
    "        test_loss_mean = np.mean(np.array([tensor.cpu().numpy() for tensor in test_loss]))\n",
    "    else: \n",
    "        test_loss_mean = np.mean(np.array(test_loss))\n",
    "        test_accuracy = pearsonr(torch.log(torch.cat(test_outputs) + 0.00001).cpu().detach().numpy().flatten(), torch.log(torch.cat(test_targets) + 0.00001).cpu().detach().numpy().flatten())\n",
    "\n",
    "    print(f\"Test Loss: {test_loss_mean}, Test Accuracy: {round(test_accuracy[0], 5)}\")\n",
    "    \n",
    "    return test_targets, test_outputs, test_loss, test_genes\n",
    "    \n",
    "    # return test, cell_type_counts_revised \n",
    "\n",
    "# test, decoy = eval_per_cell_type(\"TCGA-COAD\")\n",
    "# i = 0\n",
    "\n",
    "# COAD_targets, COAD_outputs, COAD_loss, COAD_genes = eval_per_cell_type(\"TCGA-COAD\")\n",
    "#READ_targets, READ_outputs, READ_loss, READ_genes = eval_per_cell_type(\"TCGA-READ\")\n",
    "#BLCA_targets, BLCA_outputs, BLCA_loss, BLCA_genes = eval_per_cell_type(\"TCGA-BLCA\")\n",
    "#KIRC_targets, KIRC_outputs, KIRC_loss, KIRC_genes = eval_per_cell_type(\"TCGA-KIRC\")\n",
    "#LGG_targets, LGG_outputs, LGG_loss, LGG_genes = eval_per_cell_type(\"TCGA-LGG\")\n",
    "#LUAD_targets, LUAD_outputs, LUAD_loss, LUAD_genes = eval_per_cell_type(\"TCGA-LUAD\")\n",
    "#LUSC_targets, LUSC_outputs, LUSC_loss, LUSC_genes = eval_per_cell_type(\"TCGA-LUSC\")\n",
    "#PRAD_targets, PRAD_outputs, PRAD_loss, PRAD_genes = eval_per_cell_type(\"TCGA-PRAD\")\n"
   ]
  },
  {
   "cell_type": "markdown",
   "id": "8f95abe0",
   "metadata": {},
   "source": [
    "# Evaluate Model Performance on CRC-relevant genes"
   ]
  },
  {
   "cell_type": "code",
   "execution_count": 14,
   "id": "a29b123e",
   "metadata": {},
   "outputs": [
    {
     "name": "stdout",
     "output_type": "stream",
     "text": [
      "12\n"
     ]
    }
   ],
   "source": [
    "colon_relevant_genes = ['MUC2', 'KRT20', 'CDX2', 'ALPI', 'SSTR2', 'SLC26A3', 'FABP6', \n",
    "                        'GUCA2B', 'TFF3', 'LGR5', 'CHGA', 'CALB1']\n",
    "print(len(colon_relevant_genes))\n",
    "colon_relevant_file = TSS_centered_genes[TSS_centered_genes['gene_name'].isin(colon_relevant_genes)]"
   ]
  },
  {
   "cell_type": "code",
   "execution_count": 15,
   "id": "93ab8444",
   "metadata": {},
   "outputs": [],
   "source": [
    "colon_relevant_file.to_csv(\"colon_sequences.bed\", sep='\\t', header=None, index=None)"
   ]
  },
  {
   "cell_type": "code",
   "execution_count": 16,
   "id": "2ddfd5e2",
   "metadata": {},
   "outputs": [],
   "source": [
    "crc_ds = GenomeIntervalDataset(\n",
    "    bed_file = 'colon_sequences.bed',                       \n",
    "    fasta_file = 'hg38.fa',\n",
    "    return_seq_indices = True,                         \n",
    "    context_length = 49_152\n",
    ")"
   ]
  },
  {
   "cell_type": "code",
   "execution_count": null,
   "id": "ad8ac26f",
   "metadata": {},
   "outputs": [
    {
     "name": "stdout",
     "output_type": "stream",
     "text": [
      "TCGA-COAD\n"
     ]
    },
    {
     "name": "stderr",
     "output_type": "stream",
     "text": [
      "/tmp/ipykernel_336096/1650624248.py:20: SettingWithCopyWarning: \n",
      "A value is trying to be set on a copy of a slice from a DataFrame.\n",
      "Try using .loc[row_indexer,col_indexer] = value instead\n",
      "\n",
      "See the caveats in the documentation: https://pandas.pydata.org/pandas-docs/stable/user_guide/indexing.html#returning-a-view-versus-a-copy\n",
      "  cell_type_counts['median'] = cell_type_counts.median(axis=0)\n",
      "/tmp/ipykernel_336096/1650624248.py:22: SettingWithCopyWarning: \n",
      "A value is trying to be set on a copy of a slice from a DataFrame.\n",
      "Try using .loc[row_indexer,col_indexer] = value instead\n",
      "\n",
      "See the caveats in the documentation: https://pandas.pydata.org/pandas-docs/stable/user_guide/indexing.html#returning-a-view-versus-a-copy\n",
      "  cell_type_counts['median'] = cell_type_counts.median(axis=1)\n"
     ]
    }
   ],
   "source": [
    "COAD_targets, COAD_outputs, COAD_loss, COAD_genes = eval_per_cell_type(\"TCGA-COAD\", colon_relevant_file, crc_ds)\n",
    "READ_targets, READ_outputs, READ_loss, READ_genes = eval_per_cell_type(\"TCGA-READ\", colon_relevant_file, crc_ds)\n",
    "BLCA_targets, BLCA_outputs, BLCA_loss, BLCA_genes = eval_per_cell_type(\"TCGA-BLCA\", colon_relevant_file, crc_ds)\n",
    "KIRC_targets, KIRC_outputs, KIRC_loss, KIRC_genes = eval_per_cell_type(\"TCGA-KIRC\", colon_relevant_file, crc_ds)\n",
    "LGG_targets, LGG_outputs, LGG_loss, LGG_genes = eval_per_cell_type(\"TCGA-LGG\", colon_relevant_file, crc_ds)\n",
    "LUAD_targets, LUAD_outputs, LUAD_loss, LUAD_genes = eval_per_cell_type(\"TCGA-LUAD\", colon_relevant_file, crc_ds)\n",
    "LUSC_targets, LUSC_outputs, LUSC_loss, LUSC_genes = eval_per_cell_type(\"TCGA-LUSC\", colon_relevant_file, crc_ds)\n",
    "PRAD_targets, PRAD_outputs, PRAD_loss, PRAD_genes = eval_per_cell_type(\"TCGA-PRAD\", colon_relevant_file, crc_ds)"
   ]
  },
  {
   "cell_type": "code",
   "execution_count": 26,
   "id": "4a847383",
   "metadata": {},
   "outputs": [],
   "source": [
    "outputs = torch.cat(COAD_outputs).cpu().numpy().flatten()\n",
    "BLCA_targets = torch.cat(BLCA_targets).cpu().numpy().flatten()\n",
    "COAD_targets = torch.cat(COAD_targets).cpu().numpy().flatten()\n",
    "KIRC_targets = torch.cat(KIRC_targets).cpu().numpy().flatten()\n",
    "LGG_targets = torch.cat(LGG_targets).cpu().numpy().flatten()\n",
    "LUAD_targets = torch.cat(LUAD_targets).cpu().numpy().flatten()\n",
    "LUSC_targets = torch.cat(LUSC_targets).cpu().numpy().flatten()\n",
    "PRAD_targets = torch.cat(PRAD_targets).cpu().numpy().flatten()\n",
    "READ_targets = torch.cat(READ_targets).cpu().numpy().flatten()\n",
    "\n",
    "output_target_table = pd.concat([pd.Series(outputs), pd.Series(BLCA_targets), pd.Series(COAD_targets), pd.Series(KIRC_targets), \n",
    "                                 pd.Series(LGG_targets), pd.Series(LUAD_targets), pd.Series(LUSC_targets), pd.Series(PRAD_targets), pd.Series(READ_targets)], axis=1)"
   ]
  },
  {
   "cell_type": "code",
   "execution_count": 31,
   "id": "63c91114",
   "metadata": {},
   "outputs": [],
   "source": [
    "output_target_table.columns = ['output', 'BLCA', 'COAD', 'KIRC', \n",
    "                               'LGG', 'LUAD', 'LUSC', 'PRAD', 'READ']\n",
    "\n",
    "output_target_table.index = CRC_bed_file['gene_name']\n"
   ]
  },
  {
   "cell_type": "code",
   "execution_count": 34,
   "id": "eb24d891",
   "metadata": {},
   "outputs": [],
   "source": [
    "output_target_table.to_csv('/pollard/home/aravi1/TCGA_matrices/TCGA_output_target.tsv', sep='\\t')"
   ]
  }
 ],
 "metadata": {
  "kernelspec": {
   "display_name": "Python 3 (ipykernel)",
   "language": "python",
   "name": "python3"
  },
  "language_info": {
   "codemirror_mode": {
    "name": "ipython",
    "version": 3
   },
   "file_extension": ".py",
   "mimetype": "text/x-python",
   "name": "python",
   "nbconvert_exporter": "python",
   "pygments_lexer": "ipython3",
   "version": "3.9.19"
  }
 },
 "nbformat": 4,
 "nbformat_minor": 5
}
